{
  "nbformat": 4,
  "nbformat_minor": 0,
  "metadata": {
    "colab": {
      "provenance": [],
      "authorship_tag": "ABX9TyMbPVob87xBg2Vxr7WdtBoE",
      "include_colab_link": true
    },
    "kernelspec": {
      "name": "python3",
      "display_name": "Python 3"
    },
    "language_info": {
      "name": "python"
    }
  },
  "cells": [
    {
      "cell_type": "markdown",
      "metadata": {
        "id": "view-in-github",
        "colab_type": "text"
      },
      "source": [
        "<a href=\"https://colab.research.google.com/github/Venkata1345/TLE-CP-31-solutions/blob/main/1374B.ipynb\" target=\"_parent\"><img src=\"https://colab.research.google.com/assets/colab-badge.svg\" alt=\"Open In Colab\"/></a>"
      ]
    },
    {
      "cell_type": "code",
      "execution_count": 1,
      "metadata": {
        "id": "9UQ09iB1CUAq",
        "colab": {
          "base_uri": "https://localhost:8080/"
        },
        "outputId": "7c4a04d0-8ded-421a-c6c6-ca12a3372c38"
      },
      "outputs": [
        {
          "output_type": "stream",
          "name": "stdout",
          "text": [
            "1\n",
            "3\n",
            "2\n"
          ]
        }
      ],
      "source": [
        "for i in range(int(input())):\n",
        "    n=int(input())\n",
        "    c3=0\n",
        "    c2=0\n",
        "    while (n>0 and n%3==0):\n",
        "        c3+=1\n",
        "        n=n//3\n",
        "    while (n>0 and n%2==0):\n",
        "        c2+=1\n",
        "        n=n//2\n",
        "\n",
        "    if n>1 or c2>c3:\n",
        "        print(-1)\n",
        "    else:\n",
        "        print(c3+(c3-c2))"
      ]
    }
  ]
}