{
  "nbformat": 4,
  "nbformat_minor": 0,
  "metadata": {
    "colab": {
      "provenance": [],
      "authorship_tag": "ABX9TyNTGsWlJ3Ivyh7HuwNsXSwb"
    },
    "kernelspec": {
      "name": "python3",
      "display_name": "Python 3"
    },
    "language_info": {
      "name": "python"
    }
  },
  "cells": [
    {
      "cell_type": "code",
      "execution_count": 1,
      "metadata": {
        "id": "9UQ09iB1CUAq",
        "colab": {
          "base_uri": "https://localhost:8080/"
        },
        "outputId": "e38e3832-e75d-4a94-93bc-98d2ae07e501"
      },
      "outputs": [
        {
          "output_type": "stream",
          "name": "stdout",
          "text": [
            "1\n",
            "3\n",
            "1 2 3\n",
            "No\n"
          ]
        }
      ],
      "source": [
        "for i in range(int(input())):\n",
        "    n=int(input())\n",
        "    p=list(map(int,input().split()))\n",
        "    for i in range(1,n-1):\n",
        "        if p[i-1]<p[i] and p[i]>p[i+1]:\n",
        "            print('Yes')\n",
        "            print(i,i+1,i+2)\n",
        "            break\n",
        "    else:\n",
        "        print('No')"
      ]
    }
  ]
}