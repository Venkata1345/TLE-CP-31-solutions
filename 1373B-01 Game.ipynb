{
  "nbformat": 4,
  "nbformat_minor": 0,
  "metadata": {
    "colab": {
      "provenance": [],
      "authorship_tag": "ABX9TyOZPlWONjnam5vUXoB+N07R"
    },
    "kernelspec": {
      "name": "python3",
      "display_name": "Python 3"
    },
    "language_info": {
      "name": "python"
    }
  },
  "cells": [
    {
      "cell_type": "code",
      "execution_count": 1,
      "metadata": {
        "id": "9UQ09iB1CUAq",
        "colab": {
          "base_uri": "https://localhost:8080/"
        },
        "outputId": "5c799df6-316d-4715-d1e8-5073db506264"
      },
      "outputs": [
        {
          "output_type": "stream",
          "name": "stdout",
          "text": [
            "1\n",
            "01\n",
            "DA\n"
          ]
        }
      ],
      "source": [
        "for i in range(int(input())):\n",
        "    s=input()\n",
        "    c0=0\n",
        "    c1=0\n",
        "    for i in range(len(s)):\n",
        "        if s[i]=='0':\n",
        "            c0+=1\n",
        "        else:\n",
        "            c1+=1\n",
        "    if min(c0,c1)%2==0:\n",
        "        print('NET')\n",
        "    else:\n",
        "        print('DA')"
      ]
    }
  ]
}